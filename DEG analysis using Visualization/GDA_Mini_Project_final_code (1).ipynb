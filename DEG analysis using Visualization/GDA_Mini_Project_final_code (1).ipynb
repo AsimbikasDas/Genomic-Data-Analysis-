{
  "nbformat": 4,
  "nbformat_minor": 0,
  "metadata": {
    "colab": {
      "provenance": []
    },
    "kernelspec": {
      "name": "python3",
      "display_name": "Python 3"
    },
    "language_info": {
      "name": "python"
    }
  },
  "cells": [
    {
      "cell_type": "code",
      "source": [
        "# install esssential libraries\n",
        "pip install pandas numpy matplotlib seaborn networkx openpyxl pydeseq2"
      ],
      "metadata": {
        "colab": {
          "base_uri": "https://localhost:8080/"
        },
        "id": "WBL30N_t0NAQ",
        "outputId": "0036647f-39aa-4a46-8987-084ce7b5fb70",
        "collapsed": true
      },
      "execution_count": null,
      "outputs": [
        {
          "output_type": "stream",
          "name": "stdout",
          "text": [
            "Requirement already satisfied: pandas in /usr/local/lib/python3.11/dist-packages (2.2.2)\n",
            "Requirement already satisfied: numpy in /usr/local/lib/python3.11/dist-packages (2.0.2)\n",
            "Requirement already satisfied: matplotlib in /usr/local/lib/python3.11/dist-packages (3.10.0)\n",
            "Requirement already satisfied: seaborn in /usr/local/lib/python3.11/dist-packages (0.13.2)\n",
            "Requirement already satisfied: networkx in /usr/local/lib/python3.11/dist-packages (3.4.2)\n",
            "Requirement already satisfied: openpyxl in /usr/local/lib/python3.11/dist-packages (3.1.5)\n",
            "Collecting pydeseq2\n",
            "  Downloading pydeseq2-0.5.0-py3-none-any.whl.metadata (7.3 kB)\n",
            "Requirement already satisfied: python-dateutil>=2.8.2 in /usr/local/lib/python3.11/dist-packages (from pandas) (2.8.2)\n",
            "Requirement already satisfied: pytz>=2020.1 in /usr/local/lib/python3.11/dist-packages (from pandas) (2025.1)\n",
            "Requirement already satisfied: tzdata>=2022.7 in /usr/local/lib/python3.11/dist-packages (from pandas) (2025.1)\n",
            "Requirement already satisfied: contourpy>=1.0.1 in /usr/local/lib/python3.11/dist-packages (from matplotlib) (1.3.1)\n",
            "Requirement already satisfied: cycler>=0.10 in /usr/local/lib/python3.11/dist-packages (from matplotlib) (0.12.1)\n",
            "Requirement already satisfied: fonttools>=4.22.0 in /usr/local/lib/python3.11/dist-packages (from matplotlib) (4.56.0)\n",
            "Requirement already satisfied: kiwisolver>=1.3.1 in /usr/local/lib/python3.11/dist-packages (from matplotlib) (1.4.8)\n",
            "Requirement already satisfied: packaging>=20.0 in /usr/local/lib/python3.11/dist-packages (from matplotlib) (24.2)\n",
            "Requirement already satisfied: pillow>=8 in /usr/local/lib/python3.11/dist-packages (from matplotlib) (11.1.0)\n",
            "Requirement already satisfied: pyparsing>=2.3.1 in /usr/local/lib/python3.11/dist-packages (from matplotlib) (3.2.1)\n",
            "Requirement already satisfied: et-xmlfile in /usr/local/lib/python3.11/dist-packages (from openpyxl) (2.0.0)\n",
            "Collecting anndata>=0.8.0 (from pydeseq2)\n",
            "  Downloading anndata-0.11.3-py3-none-any.whl.metadata (8.2 kB)\n",
            "Collecting formulaic>=1.0.2 (from pydeseq2)\n",
            "  Downloading formulaic-1.1.1-py3-none-any.whl.metadata (6.9 kB)\n",
            "Requirement already satisfied: scikit-learn>=1.1.0 in /usr/local/lib/python3.11/dist-packages (from pydeseq2) (1.6.1)\n",
            "Requirement already satisfied: scipy>=1.11.0 in /usr/local/lib/python3.11/dist-packages (from pydeseq2) (1.14.1)\n",
            "Collecting formulaic-contrasts>=0.2.0 (from pydeseq2)\n",
            "  Downloading formulaic_contrasts-1.0.0-py3-none-any.whl.metadata (6.5 kB)\n",
            "Collecting array-api-compat!=1.5,>1.4 (from anndata>=0.8.0->pydeseq2)\n",
            "  Downloading array_api_compat-1.11.2-py3-none-any.whl.metadata (1.9 kB)\n",
            "Requirement already satisfied: h5py>=3.7 in /usr/local/lib/python3.11/dist-packages (from anndata>=0.8.0->pydeseq2) (3.13.0)\n",
            "Requirement already satisfied: natsort in /usr/local/lib/python3.11/dist-packages (from anndata>=0.8.0->pydeseq2) (8.4.0)\n",
            "Collecting interface-meta>=1.2.0 (from formulaic>=1.0.2->pydeseq2)\n",
            "  Downloading interface_meta-1.3.0-py3-none-any.whl.metadata (6.7 kB)\n",
            "Requirement already satisfied: typing-extensions>=4.2.0 in /usr/local/lib/python3.11/dist-packages (from formulaic>=1.0.2->pydeseq2) (4.12.2)\n",
            "Requirement already satisfied: wrapt>=1.0 in /usr/local/lib/python3.11/dist-packages (from formulaic>=1.0.2->pydeseq2) (1.17.2)\n",
            "Collecting session-info (from formulaic-contrasts>=0.2.0->pydeseq2)\n",
            "  Downloading session_info-1.0.0.tar.gz (24 kB)\n",
            "  Preparing metadata (setup.py) ... \u001b[?25l\u001b[?25hdone\n",
            "Requirement already satisfied: six>=1.5 in /usr/local/lib/python3.11/dist-packages (from python-dateutil>=2.8.2->pandas) (1.17.0)\n",
            "Requirement already satisfied: joblib>=1.2.0 in /usr/local/lib/python3.11/dist-packages (from scikit-learn>=1.1.0->pydeseq2) (1.4.2)\n",
            "Requirement already satisfied: threadpoolctl>=3.1.0 in /usr/local/lib/python3.11/dist-packages (from scikit-learn>=1.1.0->pydeseq2) (3.6.0)\n",
            "Collecting stdlib_list (from session-info->formulaic-contrasts>=0.2.0->pydeseq2)\n",
            "  Downloading stdlib_list-0.11.1-py3-none-any.whl.metadata (3.3 kB)\n",
            "Downloading pydeseq2-0.5.0-py3-none-any.whl (46 kB)\n",
            "\u001b[2K   \u001b[90m━━━━━━━━━━━━━━━━━━━━━━━━━━━━━━━━━━━━━━━━\u001b[0m \u001b[32m46.7/46.7 kB\u001b[0m \u001b[31m2.8 MB/s\u001b[0m eta \u001b[36m0:00:00\u001b[0m\n",
            "\u001b[?25hDownloading anndata-0.11.3-py3-none-any.whl (142 kB)\n",
            "\u001b[2K   \u001b[90m━━━━━━━━━━━━━━━━━━━━━━━━━━━━━━━━━━━━━━━━\u001b[0m \u001b[32m142.7/142.7 kB\u001b[0m \u001b[31m6.1 MB/s\u001b[0m eta \u001b[36m0:00:00\u001b[0m\n",
            "\u001b[?25hDownloading formulaic-1.1.1-py3-none-any.whl (115 kB)\n",
            "\u001b[2K   \u001b[90m━━━━━━━━━━━━━━━━━━━━━━━━━━━━━━━━━━━━━━━━\u001b[0m \u001b[32m115.7/115.7 kB\u001b[0m \u001b[31m9.8 MB/s\u001b[0m eta \u001b[36m0:00:00\u001b[0m\n",
            "\u001b[?25hDownloading formulaic_contrasts-1.0.0-py3-none-any.whl (10 kB)\n",
            "Downloading array_api_compat-1.11.2-py3-none-any.whl (53 kB)\n",
            "\u001b[2K   \u001b[90m━━━━━━━━━━━━━━━━━━━━━━━━━━━━━━━━━━━━━━━━\u001b[0m \u001b[32m53.1/53.1 kB\u001b[0m \u001b[31m3.2 MB/s\u001b[0m eta \u001b[36m0:00:00\u001b[0m\n",
            "\u001b[?25hDownloading interface_meta-1.3.0-py3-none-any.whl (14 kB)\n",
            "Downloading stdlib_list-0.11.1-py3-none-any.whl (83 kB)\n",
            "\u001b[2K   \u001b[90m━━━━━━━━━━━━━━━━━━━━━━━━━━━━━━━━━━━━━━━━\u001b[0m \u001b[32m83.6/83.6 kB\u001b[0m \u001b[31m6.9 MB/s\u001b[0m eta \u001b[36m0:00:00\u001b[0m\n",
            "\u001b[?25hBuilding wheels for collected packages: session-info\n",
            "  Building wheel for session-info (setup.py) ... \u001b[?25l\u001b[?25hdone\n",
            "  Created wheel for session-info: filename=session_info-1.0.0-py3-none-any.whl size=8023 sha256=945e06f28a44f464e796d601c8e392eaabe06dac611b932f7d3cbcae95e216cf\n",
            "  Stored in directory: /root/.cache/pip/wheels/4e/56/35/a748fc57279a4b84d0b332879445fed1ad8478e7257986b015\n",
            "Successfully built session-info\n",
            "Installing collected packages: stdlib_list, interface-meta, array-api-compat, session-info, formulaic, anndata, formulaic-contrasts, pydeseq2\n",
            "Successfully installed anndata-0.11.3 array-api-compat-1.11.2 formulaic-1.1.1 formulaic-contrasts-1.0.0 interface-meta-1.3.0 pydeseq2-0.5.0 session-info-1.0.0 stdlib_list-0.11.1\n"
          ]
        }
      ]
    },
    {
      "cell_type": "code",
      "execution_count": null,
      "metadata": {
        "id": "8x3X2AtgyjOL"
      },
      "outputs": [],
      "source": [
        "import pandas as pd\n",
        "\n",
        "# import DeseqDataSet and DeseqStats from pydeseq2 library to perform differential expression analysis\n",
        "from pydeseq2.dds import DeseqDataSet\n",
        "from pydeseq2.ds import DeseqStats\n",
        "\n",
        "# Class {DESeq2Pipeline}: Automating Differential Expression Analysis\n",
        "class DESeq2Pipeline:\n",
        "    def __init__(self, count_file, metadata_file):\n",
        "        self.count_file = count_file  # 'count_file' is csv file containing gene expression data\n",
        "        self.metadata_file = metadata_file # The 'metadata_file' is an Excel ('.xlsx') file that contains patient information, patient IDs and their cancer status.\n",
        "        self.count_matrix = None\n",
        "        self.metadata = None\n",
        "        self.results_df = None\n",
        "\n",
        "    def load_data(self):\n",
        "        \"\"\"Loads count matrix and metadata.\"\"\"\n",
        "        self.count_matrix = pd.read_csv(self.count_file, index_col=0).astype(int)\n",
        "        self.metadata = pd.read_excel(self.metadata_file, index_col=0)\n",
        "        print(\"Data loaded successfully.\")\n",
        "\n",
        "    def run_deseq2(self):\n",
        "        \"\"\"Runs DESeq2 differential expression analysis.\"\"\"\n",
        "        dds = DeseqDataSet(\n",
        "            counts=self.count_matrix.T,\n",
        "            metadata=self.metadata,\n",
        "            design_factors=\"Condition\"\n",
        "        )\n",
        "        dds.deseq2()\n",
        "        stat_res = DeseqStats(dds, contrast=['Condition', 'Tumor', 'Normal'])\n",
        "        stat_res.summary()\n",
        "        self.results_df = stat_res.results_df.sort_values(\"padj\")\n",
        "        print(\"DESeq2 analysis completed.\")\n",
        "\n",
        "    def save_results(self, output_file=\"deseq2_results.xlsx\"):\n",
        "        \"\"\"Saves the DESeq2 results to an Excel file.\"\"\"\n",
        "        if self.results_df is not None:\n",
        "            self.results_df.to_excel(output_file)\n",
        "            print(f\"Results saved to {output_file}\")\n",
        "        else:\n",
        "            print(\"No results to save!\")"
      ]
    },
    {
      "cell_type": "code",
      "source": [
        "# Initialize the DESeq2Pipeline\n",
        "pipeline = DESeq2Pipeline(\"prostate_exp_cancer_preprocess.csv\", \"prostate_metadata.xlsx\")\n",
        "\n",
        "# Load the expression data and metadata and run the pipeline\n",
        "pipeline.load_data()\n",
        "pipeline.run_deseq2()\n",
        "\n",
        "# save the results to an output file\n",
        "pipeline.save_results()"
      ],
      "metadata": {
        "colab": {
          "base_uri": "https://localhost:8080/"
        },
        "id": "4iLpcfDhzxXn",
        "outputId": "3becc73e-fc05-4112-e289-292cd191d94c",
        "collapsed": true
      },
      "execution_count": null,
      "outputs": [
        {
          "output_type": "stream",
          "name": "stdout",
          "text": [
            "Data loaded successfully.\n"
          ]
        },
        {
          "output_type": "stream",
          "name": "stderr",
          "text": [
            "<ipython-input-2-52a4816cd7ce>:21: DeprecationWarning: design_factors is deprecated and will soon be removed.Please consider providing a formulaic formula using the design argumentinstead.\n",
            "  dds = DeseqDataSet(\n",
            "Fitting size factors...\n"
          ]
        },
        {
          "output_type": "stream",
          "name": "stdout",
          "text": [
            "Using None as control genes, passed at DeseqDataSet initialization\n"
          ]
        },
        {
          "output_type": "stream",
          "name": "stderr",
          "text": [
            "... done in 0.59 seconds.\n",
            "\n",
            "Fitting dispersions...\n",
            "... done in 47.19 seconds.\n",
            "\n",
            "Fitting dispersion trend curve...\n",
            "/usr/local/lib/python3.11/dist-packages/pydeseq2/dds.py:804: UserWarning: The dispersion trend curve fitting did not converge. Switching to a mean-based dispersion trend.\n",
            "  self._fit_parametric_dispersion_trend(vst)\n",
            "... done in 0.37 seconds.\n",
            "\n",
            "Fitting MAP dispersions...\n",
            "... done in 63.53 seconds.\n",
            "\n",
            "Fitting LFCs...\n",
            "... done in 12.94 seconds.\n",
            "\n",
            "Calculating cook's distance...\n",
            "... done in 0.92 seconds.\n",
            "\n",
            "Replacing 0 outlier genes.\n",
            "\n",
            "Running Wald tests...\n",
            "... done in 4.40 seconds.\n",
            "\n"
          ]
        },
        {
          "output_type": "stream",
          "name": "stdout",
          "text": [
            "Log2 fold change & Wald test p-value: Condition Tumor vs Normal\n",
            "            baseMean  log2FoldChange     lfcSE      stat    pvalue      padj\n",
            "ARHGEF10L   8.869308       -0.007911  0.043662 -0.181181  0.856226  0.999988\n",
            "HIF3A       5.170882        0.013939  0.057358  0.243020  0.807990  0.999988\n",
            "RNF10      11.736478        0.013785  0.037964  0.363103  0.716528  0.999988\n",
            "RNF11      10.684086        0.000600  0.039789  0.015073  0.987974  0.999988\n",
            "RNF13      10.060199        0.003129  0.041000  0.076328  0.939158  0.999988\n",
            "...              ...             ...       ...       ...       ...       ...\n",
            "PTRF       11.856192        0.019727  0.037782  0.522131  0.601579  0.999988\n",
            "BCL6B       6.180026       -0.023485  0.052333 -0.448764  0.653602  0.999988\n",
            "GSTK1      10.164046        0.003823  0.040793  0.093727  0.925326  0.999988\n",
            "SELP        7.215098        0.012462  0.048422  0.257359  0.796901  0.999988\n",
            "SELS       10.053169        0.011117  0.041016  0.271041  0.786359  0.999988\n",
            "\n",
            "[16278 rows x 6 columns]\n",
            "DESeq2 analysis completed.\n",
            "Results saved to deseq2_results.xlsx\n"
          ]
        }
      ]
    },
    {
      "cell_type": "code",
      "source": [
        "import pandas as pd\n",
        "import numpy as np\n",
        "import matplotlib.pyplot as plt\n",
        "import seaborn as sns\n",
        "import networkx as nx\n",
        "\n",
        "class OmicsVisualizer:\n",
        "    def __init__(self, deseq2_file, exp_data_file, metadata_file):\n",
        "\n",
        "        # Load DESeq2 differential expression analysis results\n",
        "        self.deseq2_results = pd.read_excel(deseq2_file)\n",
        "\n",
        "        # Load gene expression data from a CSV file\n",
        "        self.exp_data = pd.read_csv(exp_data_file)\n",
        "\n",
        "        # Load Meta data excel file\n",
        "        self.metadata = pd.read_excel(metadata_file)\n",
        "\n",
        "        # set default log2 fold change value for filtering differentially expressed genes and p value for statistical significance\n",
        "        self.log2FC_threshold = 0\n",
        "        self.pval_threshold = 0.05\n",
        "\n",
        "    def volcano_plot(self):\n",
        "        \"\"\"Generates a volcano plot for DESeq2 results.\"\"\"\n",
        "        self.deseq2_results[\"-log10(pvalue)\"] = -np.log10(self.deseq2_results[\"pvalue\"])\n",
        "        self.deseq2_results[\"Significance\"] = \"Not Significant\"\n",
        "\n",
        "        # classification of genes to upregulated or down regulated based on threshold cutoffs\n",
        "        self.deseq2_results.loc[(self.deseq2_results[\"log2FoldChange\"] > self.log2FC_threshold) & (self.deseq2_results[\"pvalue\"] < self.pval_threshold), \"Significance\"] = \"Upregulated\"\n",
        "        self.deseq2_results.loc[(self.deseq2_results[\"log2FoldChange\"] < -self.log2FC_threshold) & (self.deseq2_results[\"pvalue\"] < self.pval_threshold), \"Significance\"] = \"Downregulated\"\n",
        "\n",
        "        plt.figure(figsize=(8, 6))\n",
        "        sns.scatterplot(data=self.deseq2_results, x=\"log2FoldChange\", y=\"-log10(pvalue)\", hue=\"Significance\",\n",
        "                        palette={\"Upregulated\": \"red\", \"Downregulated\": \"blue\", \"Not Significant\": \"gray\"}, alpha=0.6)\n",
        "\n",
        "        # adding vertical and horizontal threshold lines\n",
        "        plt.axhline(-np.log10(self.pval_threshold), color='black', linestyle='--', linewidth=1)\n",
        "        plt.axvline(-self.log2FC_threshold, color='black', linestyle='--', linewidth=1)\n",
        "        plt.axvline(self.log2FC_threshold, color='black', linestyle='--', linewidth=1)\n",
        "        plt.xlabel(\"Log2 Fold Change\")\n",
        "        plt.xlim(-1, 1)\n",
        "        plt.xticks(np.arange(-1, 1.25, 0.25))\n",
        "        plt.ylabel(\"-log10 (P-value)\")\n",
        "        plt.title(\"Volcano Plot of Differential Expression\")\n",
        "        plt.legend(title=\"Gene Regulation\", loc=\"upper right\")\n",
        "        plt.show()\n",
        "\n",
        "    def heatmap(self):\n",
        "        \"\"\"Generates a heatmap of top 25 differentially expressed genes.\"\"\"\n",
        "\n",
        "        # Extract expression data for the top 25 genes\n",
        "        top_25_genes = self.deseq2_results.nlargest(25, 'log2FoldChange')[\"Unnamed: 0\"]\n",
        "        top_exp_data = self.exp_data.set_index(self.exp_data.columns[0]).loc[top_25_genes]\n",
        "        plt.figure(figsize=(12, 8))\n",
        "        sns.heatmap(top_exp_data, cmap=\"coolwarm\", linewidths=0.5)\n",
        "        plt.title(\"Heatmap of Top 25 Differentially Expressed Genes\")\n",
        "        plt.xlabel(\"Patients\")\n",
        "        plt.ylabel(\"Genes\")\n",
        "        plt.xticks(rotation=90)\n",
        "        plt.yticks(rotation=0)\n",
        "        plt.show()\n",
        "\n",
        "    def correlation_matrix(self,top_n):\n",
        "        \"\"\"Generates a correlation matrix heatmap for top N differentially expressed genes.\"\"\"\n",
        "\n",
        "        # Select the top N differentially expressed genes based on the highest log2 fold change\n",
        "        top_genes = self.deseq2_results.nlargest(top_n, 'log2FoldChange')[\"Unnamed: 0\"]\n",
        "        filtered_exp_data = self.exp_data.set_index(self.exp_data.columns[0]).loc[top_genes]\n",
        "        correlation_matrix = filtered_exp_data.T.corr()\n",
        "\n",
        "        plt.figure(figsize=(12, 10))\n",
        "        sns.heatmap(correlation_matrix, annot=False, cmap='coolwarm', fmt=\".2f\")\n",
        "        plt.title(f'Correlation Matrix of Top {top_n} Differentially Expressed Genes')\n",
        "        plt.xticks(rotation=45, fontsize=8)\n",
        "        plt.yticks(fontsize=8)\n",
        "        plt.show()\n",
        "\n",
        "    def circular_plot(self, min_cutoff, max_cutoff):\n",
        "        \"\"\"Generates a circular plot showing relationships between genes based on a user-defined correlation range.\"\"\"\n",
        "        top_25_genes = self.deseq2_results.nlargest(25, 'log2FoldChange')[\"Unnamed: 0\"]\n",
        "        top_exp_data = self.exp_data.set_index(self.exp_data.columns[0]).loc[top_25_genes]\n",
        "        top_exp_data_corr = top_exp_data.T.corr()\n",
        "\n",
        "        gene_graph = nx.Graph()\n",
        "\n",
        "        # Adding edges only for correlations within the specified range\n",
        "        for i in range(len(top_exp_data_corr.columns)):\n",
        "            for j in range(i + 1, len(top_exp_data_corr.columns)):\n",
        "                gene1 = top_exp_data_corr.columns[i]\n",
        "                gene2 = top_exp_data_corr.columns[j]\n",
        "                correlation = top_exp_data_corr.iloc[i, j]\n",
        "                if min_cutoff < correlation < max_cutoff:\n",
        "                    gene_graph.add_edge(gene1, gene2, weight=correlation)\n",
        "\n",
        "        fig, ax = plt.subplots(figsize=(10, 10))\n",
        "        pos = nx.circular_layout(gene_graph)\n",
        "        edge_weights = [d['weight'] for u, v, d in gene_graph.edges(data=True)]\n",
        "        normalized_weights = (np.array(edge_weights) - min(edge_weights)) / (max(edge_weights) - min(edge_weights))\n",
        "        colors = [plt.cm.coolwarm(w) for w in normalized_weights]\n",
        "        widths = [abs(d['weight']) * 1.5 for u, v, d in gene_graph.edges(data=True)]\n",
        "\n",
        "        nx.draw(gene_graph, pos, with_labels=True, node_color=\"skyblue\", node_size=500, font_size=8,\n",
        "                edge_color=colors, width=widths)\n",
        "\n",
        "        plt.title(f\"Circular Plot of Top 25 DEGs Relationships (Correlation Between {min_cutoff} and {max_cutoff})\")\n",
        "        sm = plt.cm.ScalarMappable(cmap=plt.cm.coolwarm, norm=plt.Normalize(vmin=min(edge_weights), vmax=max(edge_weights)))\n",
        "        sm.set_array([])\n",
        "        plt.colorbar(sm, label=\"Correlation\", ax=ax)\n",
        "        plt.show()\n"
      ],
      "metadata": {
        "id": "UHlLZ4jlz07Q"
      },
      "execution_count": null,
      "outputs": []
    },
    {
      "cell_type": "code",
      "execution_count": null,
      "metadata": {
        "id": "qnWfNvO7C8K7"
      },
      "outputs": [],
      "source": [
        "visualizer = OmicsVisualizer(\"deseq2_results.xlsx\", \"prostate_exp_cancer_preprocess.csv\", \"prostate_metadata.xlsx\")\n",
        "visualizer.volcano_plot()\n",
        "visualizer.heatmap()\n",
        "visualizer.correlation_matrix()"
      ]
    },
    {
      "cell_type": "code",
      "source": [
        "# User input for top N genes in correlation matrix\n",
        "top_n = int(input(\"Enter the number of top differentially expressed genes for correlation matrix: \"))\n",
        "visualizer.correlation_matrix(top_n)\n",
        "\n",
        "# User input for circular plot correlation range\n",
        "min_cutoff = float(input(\"Enter the minimum correlation cutoff for circular plot: \"))\n",
        "max_cutoff = float(input(\"Enter the maximum correlation cutoff for circular plot: \"))\n",
        "visualizer.circular_plot(min_cutoff, max_cutoff)"
      ],
      "metadata": {
        "id": "f598GggaLE30"
      },
      "execution_count": null,
      "outputs": []
    }
  ]
}